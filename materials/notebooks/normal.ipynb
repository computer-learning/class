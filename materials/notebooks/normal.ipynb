{
 "cells": [
  {
   "cell_type": "code",
   "execution_count": 20,
   "metadata": {
    "collapsed": false
   },
   "outputs": [
    {
     "data": {
      "image/png": "[encoded data removed]",
      "text/plain": [
       "<matplotlib.figure.Figure at 0x11a1e6d90>"
      ]
     },
     "metadata": {},
     "output_type": "display_data"
    }
   ],
   "source": [
    "%matplotlib inline\n",
    "import numpy as np\n",
    "import pylab as pl\n",
    "\n",
    "# Define the mean of the distribution\n",
    "mu = 0\n",
    "\n",
    "# Define the standard deviation of the distribution\n",
    "sigma = 1\n",
    "\n",
    "# Number of samples from the distribution\n",
    "num_points = 10000\n",
    "\n",
    "# Generate an np_array of num_points samples generated from a normal\n",
    "# distribution with mean mu and standard deviation sigma\n",
    "h = np.random.normal(mu, sigma, num_points)\n",
    "\n",
    "# Plot a histogram of the data\n",
    "pl.hist(h)      \n",
    "\n",
    "# Show the plot\n",
    "pl.show()                  "
   ]
  },
  {
   "cell_type": "code",
   "execution_count": null,
   "metadata": {
    "collapsed": true
   },
   "outputs": [],
   "source": []
  }
 ],
 "metadata": {
  "kernelspec": {
   "display_name": "Python 2",
   "language": "python",
   "name": "python2"
  },
  "language_info": {
   "codemirror_mode": {
    "name": "ipython",
    "version": 2
   },
   "file_extension": ".py",
   "mimetype": "text/x-python",
   "name": "python",
   "nbconvert_exporter": "python",
   "pygments_lexer": "ipython2",
   "version": "2.7.10"
  }
 },
 "nbformat": 4,
 "nbformat_minor": 0
}
