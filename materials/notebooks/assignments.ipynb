{
 "cells": [
  {
   "cell_type": "markdown",
   "metadata": {},
   "source": [
    "# Computer Learning Project\n",
    "- All are meant to be done with partner (2 brains are really better than one with academic papers)\n",
    "- [Google Doc](https://docs.google.com/document/d/1z3kDVjwn41Rb7BEIbLHKDhRl1mKbq5hnN7xvJrtmwNc/edit)\n",
    "## 1. Learning about Datasets\n",
    "\n",
    "### **What**\n",
    "- Pick some topic from this class/area (Information Retrieval, Comp. Vision, Machine Translation, Deep Learning, etc.)\n",
    "- Find datasets which are commonly used in that field (ones which many people publish results for)\n",
    "- Find descriptions (usually papers) of how these datasets were gathered/formed\n",
    "- Download them (if you can) and explore them\n",
    "\n",
    "### **How**\n",
    "- Be Prepared for a brief (2 - 5 min) **conversation** in class about your findings\n",
    "\n",
    "### **Why**\n",
    "- All material in this class (algorithms, models, techniques) all rely on Data!!!\n",
    "    - Datasets can really make or break research\n",
    "        - The making of the Penn Tree Bank (long arduos task for undergrads who needed to \"prove\" themself linguists) cause a whole body of research in NLP for more than a decade\n",
    "        - One of the reasons that Deep Learning seems to be working now as opposed to before is MORE Data!\n",
    "    - Not all Datasets are made equal\n",
    "        - Think to how many ways there are to screw up crowdsourcing Data on Turk or the like\n",
    "    - Seeing what datasets are avalaible, their quality, size can help you find problems that we have yet to solve because we have not gathered the sufficient data\n",
    "    \n",
    "## 2. Survey Paper\n",
    "\n",
    "### **What**\n",
    "- Pick some topic that interests you in the context of our class\n",
    "- Find the most recent Survey paper in the field and read\n",
    "\n",
    "### **How**\n",
    "- Be Prepared for a brief ( < 5 min) **conversation** in class about the topic\n",
    "\n",
    "### **Why**\n",
    "- This is a great way to start getting acquanted with what seems like an unattainable body of research. It is usually written by the Experts (Top Dogs) in the field and they tend to have great insights for the future as well as an ability to simplify/abstract without dumbing down content.\n",
    "\n",
    "## 3. Presenting a Paper\n",
    "\n",
    "### **What**\n",
    "- Pick a paper from the survey topic you familiarized yourself with\n",
    "    - Preferably a paper that seems to be cited on every other line.\n",
    "        - Long Paper ambitious\n",
    "        - Short Paper acceptable\n",
    "        \n",
    "### **How**\n",
    "- Be Prepared to present on paper in class\n",
    "    - $\\approx$ 5 min for short paper\n",
    "    - $\\approx$ 15-20 for long paper\n",
    "    - there will be questions!\n",
    "- We will be avalaible to meet/discuss these papers with you all quarter (as best we can)\n",
    "\n",
    "### **Why**\n",
    "- Communication is the important skill to learn for being a strong researcher\n",
    "- Presenting your own work is easy! Being able to present someone else's work as if it were your own... now that requires practice.\n"
   ]
  }
 ],
 "metadata": {
  "kernelspec": {
   "display_name": "Python 2",
   "language": "python",
   "name": "python2"
  },
  "language_info": {
   "codemirror_mode": {
    "name": "ipython",
    "version": 2
   },
   "file_extension": ".py",
   "mimetype": "text/x-python",
   "name": "python",
   "nbconvert_exporter": "python",
   "pygments_lexer": "ipython2",
   "version": "2.7.8"
  }
 },
 "nbformat": 4,
 "nbformat_minor": 0
}
